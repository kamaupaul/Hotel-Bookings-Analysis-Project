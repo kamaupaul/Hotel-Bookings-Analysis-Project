{
 "cells": [
  {
   "cell_type": "markdown",
   "id": "27fb2d0c",
   "metadata": {},
   "source": [
    "### Analyzing the Effect of Customer Preferences and Traits on Hotel Booking Trends\n",
    "\n",
    "#### Project Team Members:\n",
    "- Sai Jayanth Chennadi\n",
    "- Sameer Khan\n",
    "- Abby Leyva\n",
    "- Baji Sharif Patan\n",
    "- Sriharsha Ponakala\n",
    "\n",
    "#### Executive Summary\n",
    "The primary objective of this project is to gain insight into the factors that impact customers decision making when booking hotels. Through analyzing customer characteristics\n",
    "and preferences provided in the dataset our goal is to uncover patterns, preferences and\n",
    "potential indicators that can help hotels optimize their strategies and improve customer\n",
    "satisfaction.\n",
    "\n",
    "#### Background\n",
    "Understanding customer behavior is essential for hospitality businesses. Considering the\n",
    "huge amount of data available, there are currently few comprehensive reviews that can\n",
    "provide useful information. The goal of our initiative is to fill this gap by offering such\n",
    "information.\n",
    "\n",
    "#### Objectives\n",
    "1. Analyze the key determinants influencing hotel booking cancellations.\n",
    "2. Investigate trends in customer types and their booking habits.\n",
    "3. Predict the probability of a booking getting canceled based on given parameters.\n",
    "4. Examine special requests and its correlation with customer loyalty.\n",
    "\n",
    "#### Methodological Approach\n",
    "Participants & Demographics\n",
    "- Sample Size: based on the dataset that was given.\n",
    "- Groups: Based on country, customer type, and market segment.\n",
    "\n",
    "#### Metrics & Data Acquisition\n",
    "- Hotel Attributes: Type of hotel, meal preference, room type.\n",
    "- Customer Behavior Metrics: Cancellation history, lead time, stay duration, special\n",
    "requests.\n",
    "- Demographics: Country, market segment, and customer type.\n",
    "\n",
    "#### Data Understanding\n",
    "This data set contains 32 variables that are described in the data dictionary document and include several categorical variables, some binary variables, and numerical data.\n",
    "There are 119391 observations as indicated by the number of rows in the dataset.\n",
    "\n",
    "##### Numerical Variables:\n",
    "   1. lead_time: Distribution of the number of days between booking and arrival.\n",
    "   2. stays_in_weekend_nights and stays_in_week_nights: Distribution of the number of weekend and weeknights a guest stays.\n",
    "   3. adr (Average Daily Rate): Distribution of the daily room rate.\n",
    "   4. booking_changes: Distribution of the number of changes made to the booking.\n",
    "   5. previous_cancellations and previous_bookings_not_canceled: Distribution of the number of cancellations and non-canceled bookings made by a customer.\n",
    "\n",
    "##### Categorical Variables:\n",
    "   1. hotel: Distribution of bookings between different types of hotels (e.g., resort hotel, city hotel).\n",
    "   2. arrival_date_month: Distribution of bookings across different months.\n",
    "   3. meal: Distribution of meal types chosen by guests.\n",
    "   4. country: Distribution of bookings based on the guest's country of origin.\n",
    "   5. market_segment and distribution_channel: Distributions of bookings based on market segment and distribution channel.\n",
    "   6. reserved_room_type and assigned_room_type: Distributions of reserved and assigned room types.\n",
    "   7. deposit_type: Distribution of bookings based on the type of deposit made.\n",
    "   8. customer_type: Distribution of bookings based on customer type (e.g., transient, group).\n",
    "\n",
    "##### Binary Variables:\n",
    "   1. is_canceled: This is the target variable indicating whether a booking was canceled.\n",
    "   2. is_repeated_guest: Distribution of guests based on whether they are repeated guests or not.\n",
    "   3. required_car_parking_spaces: Distribution of bookings based on the requirement for car parking.\n",
    "   4. total_of_special_requests: Distribution of the total number of special requests made by guests.\n",
    "\n",
    "##### Other Variables:\n",
    "   1. agent and company: Distributions of bookings based on the agent or company involved.\n",
    "   2. reservation_status: Distribution of bookings based on their reservation status.\n",
    "   3. days_in_waiting_list: Distribution of the number of days the booking was in the waiting list."
   ]
  },
  {
   "cell_type": "code",
   "execution_count": 1,
   "id": "4813b120",
   "metadata": {},
   "outputs": [],
   "source": [
    "import pandas as pd\n",
    "import numpy as np\n",
    "import matplotlib.pyplot as plt\n",
    "import seaborn as sns\n",
    "%matplotlib inline"
   ]
  },
  {
   "cell_type": "code",
   "execution_count": 2,
   "id": "7d9e8f01",
   "metadata": {},
   "outputs": [
    {
     "data": {
      "text/html": [
       "<div>\n",
       "<style scoped>\n",
       "    .dataframe tbody tr th:only-of-type {\n",
       "        vertical-align: middle;\n",
       "    }\n",
       "\n",
       "    .dataframe tbody tr th {\n",
       "        vertical-align: top;\n",
       "    }\n",
       "\n",
       "    .dataframe thead th {\n",
       "        text-align: right;\n",
       "    }\n",
       "</style>\n",
       "<table border=\"1\" class=\"dataframe\">\n",
       "  <thead>\n",
       "    <tr style=\"text-align: right;\">\n",
       "      <th></th>\n",
       "      <th>hotel</th>\n",
       "      <th>is_canceled</th>\n",
       "      <th>lead_time</th>\n",
       "      <th>arrival_date_year</th>\n",
       "      <th>arrival_date_month</th>\n",
       "      <th>arrival_date_week_number</th>\n",
       "      <th>arrival_date_day_of_month</th>\n",
       "      <th>stays_in_weekend_nights</th>\n",
       "      <th>stays_in_week_nights</th>\n",
       "      <th>adults</th>\n",
       "      <th>...</th>\n",
       "      <th>deposit_type</th>\n",
       "      <th>agent</th>\n",
       "      <th>company</th>\n",
       "      <th>days_in_waiting_list</th>\n",
       "      <th>customer_type</th>\n",
       "      <th>adr</th>\n",
       "      <th>required_car_parking_spaces</th>\n",
       "      <th>total_of_special_requests</th>\n",
       "      <th>reservation_status</th>\n",
       "      <th>reservation_status_date</th>\n",
       "    </tr>\n",
       "  </thead>\n",
       "  <tbody>\n",
       "    <tr>\n",
       "      <th>0</th>\n",
       "      <td>Resort Hotel</td>\n",
       "      <td>0</td>\n",
       "      <td>342</td>\n",
       "      <td>2015</td>\n",
       "      <td>July</td>\n",
       "      <td>27</td>\n",
       "      <td>1</td>\n",
       "      <td>0</td>\n",
       "      <td>0</td>\n",
       "      <td>2</td>\n",
       "      <td>...</td>\n",
       "      <td>No Deposit</td>\n",
       "      <td>NaN</td>\n",
       "      <td>NaN</td>\n",
       "      <td>0</td>\n",
       "      <td>Transient</td>\n",
       "      <td>0.00</td>\n",
       "      <td>0</td>\n",
       "      <td>0</td>\n",
       "      <td>Check-Out</td>\n",
       "      <td>7/1/15</td>\n",
       "    </tr>\n",
       "    <tr>\n",
       "      <th>1</th>\n",
       "      <td>Resort Hotel</td>\n",
       "      <td>0</td>\n",
       "      <td>737</td>\n",
       "      <td>2015</td>\n",
       "      <td>July</td>\n",
       "      <td>27</td>\n",
       "      <td>1</td>\n",
       "      <td>0</td>\n",
       "      <td>0</td>\n",
       "      <td>2</td>\n",
       "      <td>...</td>\n",
       "      <td>No Deposit</td>\n",
       "      <td>NaN</td>\n",
       "      <td>NaN</td>\n",
       "      <td>0</td>\n",
       "      <td>Transient</td>\n",
       "      <td>0.00</td>\n",
       "      <td>0</td>\n",
       "      <td>0</td>\n",
       "      <td>Check-Out</td>\n",
       "      <td>7/1/15</td>\n",
       "    </tr>\n",
       "    <tr>\n",
       "      <th>2</th>\n",
       "      <td>Resort Hotel</td>\n",
       "      <td>0</td>\n",
       "      <td>7</td>\n",
       "      <td>2015</td>\n",
       "      <td>July</td>\n",
       "      <td>27</td>\n",
       "      <td>1</td>\n",
       "      <td>0</td>\n",
       "      <td>1</td>\n",
       "      <td>1</td>\n",
       "      <td>...</td>\n",
       "      <td>No Deposit</td>\n",
       "      <td>NaN</td>\n",
       "      <td>NaN</td>\n",
       "      <td>0</td>\n",
       "      <td>Transient</td>\n",
       "      <td>75.00</td>\n",
       "      <td>0</td>\n",
       "      <td>0</td>\n",
       "      <td>Check-Out</td>\n",
       "      <td>7/2/15</td>\n",
       "    </tr>\n",
       "    <tr>\n",
       "      <th>3</th>\n",
       "      <td>Resort Hotel</td>\n",
       "      <td>0</td>\n",
       "      <td>13</td>\n",
       "      <td>2015</td>\n",
       "      <td>July</td>\n",
       "      <td>27</td>\n",
       "      <td>1</td>\n",
       "      <td>0</td>\n",
       "      <td>1</td>\n",
       "      <td>1</td>\n",
       "      <td>...</td>\n",
       "      <td>No Deposit</td>\n",
       "      <td>304.0</td>\n",
       "      <td>NaN</td>\n",
       "      <td>0</td>\n",
       "      <td>Transient</td>\n",
       "      <td>75.00</td>\n",
       "      <td>0</td>\n",
       "      <td>0</td>\n",
       "      <td>Check-Out</td>\n",
       "      <td>7/2/15</td>\n",
       "    </tr>\n",
       "    <tr>\n",
       "      <th>4</th>\n",
       "      <td>Resort Hotel</td>\n",
       "      <td>0</td>\n",
       "      <td>14</td>\n",
       "      <td>2015</td>\n",
       "      <td>July</td>\n",
       "      <td>27</td>\n",
       "      <td>1</td>\n",
       "      <td>0</td>\n",
       "      <td>2</td>\n",
       "      <td>2</td>\n",
       "      <td>...</td>\n",
       "      <td>No Deposit</td>\n",
       "      <td>240.0</td>\n",
       "      <td>NaN</td>\n",
       "      <td>0</td>\n",
       "      <td>Transient</td>\n",
       "      <td>98.00</td>\n",
       "      <td>0</td>\n",
       "      <td>1</td>\n",
       "      <td>Check-Out</td>\n",
       "      <td>7/3/15</td>\n",
       "    </tr>\n",
       "    <tr>\n",
       "      <th>...</th>\n",
       "      <td>...</td>\n",
       "      <td>...</td>\n",
       "      <td>...</td>\n",
       "      <td>...</td>\n",
       "      <td>...</td>\n",
       "      <td>...</td>\n",
       "      <td>...</td>\n",
       "      <td>...</td>\n",
       "      <td>...</td>\n",
       "      <td>...</td>\n",
       "      <td>...</td>\n",
       "      <td>...</td>\n",
       "      <td>...</td>\n",
       "      <td>...</td>\n",
       "      <td>...</td>\n",
       "      <td>...</td>\n",
       "      <td>...</td>\n",
       "      <td>...</td>\n",
       "      <td>...</td>\n",
       "      <td>...</td>\n",
       "      <td>...</td>\n",
       "    </tr>\n",
       "    <tr>\n",
       "      <th>119385</th>\n",
       "      <td>City Hotel</td>\n",
       "      <td>0</td>\n",
       "      <td>23</td>\n",
       "      <td>2017</td>\n",
       "      <td>August</td>\n",
       "      <td>35</td>\n",
       "      <td>30</td>\n",
       "      <td>2</td>\n",
       "      <td>5</td>\n",
       "      <td>2</td>\n",
       "      <td>...</td>\n",
       "      <td>No Deposit</td>\n",
       "      <td>394.0</td>\n",
       "      <td>NaN</td>\n",
       "      <td>0</td>\n",
       "      <td>Transient</td>\n",
       "      <td>96.14</td>\n",
       "      <td>0</td>\n",
       "      <td>0</td>\n",
       "      <td>Check-Out</td>\n",
       "      <td>9/6/17</td>\n",
       "    </tr>\n",
       "    <tr>\n",
       "      <th>119386</th>\n",
       "      <td>City Hotel</td>\n",
       "      <td>0</td>\n",
       "      <td>102</td>\n",
       "      <td>2017</td>\n",
       "      <td>August</td>\n",
       "      <td>35</td>\n",
       "      <td>31</td>\n",
       "      <td>2</td>\n",
       "      <td>5</td>\n",
       "      <td>3</td>\n",
       "      <td>...</td>\n",
       "      <td>No Deposit</td>\n",
       "      <td>9.0</td>\n",
       "      <td>NaN</td>\n",
       "      <td>0</td>\n",
       "      <td>Transient</td>\n",
       "      <td>225.43</td>\n",
       "      <td>0</td>\n",
       "      <td>2</td>\n",
       "      <td>Check-Out</td>\n",
       "      <td>9/7/17</td>\n",
       "    </tr>\n",
       "    <tr>\n",
       "      <th>119387</th>\n",
       "      <td>City Hotel</td>\n",
       "      <td>0</td>\n",
       "      <td>34</td>\n",
       "      <td>2017</td>\n",
       "      <td>August</td>\n",
       "      <td>35</td>\n",
       "      <td>31</td>\n",
       "      <td>2</td>\n",
       "      <td>5</td>\n",
       "      <td>2</td>\n",
       "      <td>...</td>\n",
       "      <td>No Deposit</td>\n",
       "      <td>9.0</td>\n",
       "      <td>NaN</td>\n",
       "      <td>0</td>\n",
       "      <td>Transient</td>\n",
       "      <td>157.71</td>\n",
       "      <td>0</td>\n",
       "      <td>4</td>\n",
       "      <td>Check-Out</td>\n",
       "      <td>9/7/17</td>\n",
       "    </tr>\n",
       "    <tr>\n",
       "      <th>119388</th>\n",
       "      <td>City Hotel</td>\n",
       "      <td>0</td>\n",
       "      <td>109</td>\n",
       "      <td>2017</td>\n",
       "      <td>August</td>\n",
       "      <td>35</td>\n",
       "      <td>31</td>\n",
       "      <td>2</td>\n",
       "      <td>5</td>\n",
       "      <td>2</td>\n",
       "      <td>...</td>\n",
       "      <td>No Deposit</td>\n",
       "      <td>89.0</td>\n",
       "      <td>NaN</td>\n",
       "      <td>0</td>\n",
       "      <td>Transient</td>\n",
       "      <td>104.40</td>\n",
       "      <td>0</td>\n",
       "      <td>0</td>\n",
       "      <td>Check-Out</td>\n",
       "      <td>9/7/17</td>\n",
       "    </tr>\n",
       "    <tr>\n",
       "      <th>119389</th>\n",
       "      <td>City Hotel</td>\n",
       "      <td>0</td>\n",
       "      <td>205</td>\n",
       "      <td>2017</td>\n",
       "      <td>August</td>\n",
       "      <td>35</td>\n",
       "      <td>29</td>\n",
       "      <td>2</td>\n",
       "      <td>7</td>\n",
       "      <td>2</td>\n",
       "      <td>...</td>\n",
       "      <td>No Deposit</td>\n",
       "      <td>9.0</td>\n",
       "      <td>NaN</td>\n",
       "      <td>0</td>\n",
       "      <td>Transient</td>\n",
       "      <td>151.20</td>\n",
       "      <td>0</td>\n",
       "      <td>2</td>\n",
       "      <td>Check-Out</td>\n",
       "      <td>9/7/17</td>\n",
       "    </tr>\n",
       "  </tbody>\n",
       "</table>\n",
       "<p>119390 rows × 32 columns</p>\n",
       "</div>"
      ],
      "text/plain": [
       "               hotel  is_canceled  lead_time  arrival_date_year  \\\n",
       "0       Resort Hotel            0        342               2015   \n",
       "1       Resort Hotel            0        737               2015   \n",
       "2       Resort Hotel            0          7               2015   \n",
       "3       Resort Hotel            0         13               2015   \n",
       "4       Resort Hotel            0         14               2015   \n",
       "...              ...          ...        ...                ...   \n",
       "119385    City Hotel            0         23               2017   \n",
       "119386    City Hotel            0        102               2017   \n",
       "119387    City Hotel            0         34               2017   \n",
       "119388    City Hotel            0        109               2017   \n",
       "119389    City Hotel            0        205               2017   \n",
       "\n",
       "       arrival_date_month  arrival_date_week_number  \\\n",
       "0                    July                        27   \n",
       "1                    July                        27   \n",
       "2                    July                        27   \n",
       "3                    July                        27   \n",
       "4                    July                        27   \n",
       "...                   ...                       ...   \n",
       "119385             August                        35   \n",
       "119386             August                        35   \n",
       "119387             August                        35   \n",
       "119388             August                        35   \n",
       "119389             August                        35   \n",
       "\n",
       "        arrival_date_day_of_month  stays_in_weekend_nights  \\\n",
       "0                               1                        0   \n",
       "1                               1                        0   \n",
       "2                               1                        0   \n",
       "3                               1                        0   \n",
       "4                               1                        0   \n",
       "...                           ...                      ...   \n",
       "119385                         30                        2   \n",
       "119386                         31                        2   \n",
       "119387                         31                        2   \n",
       "119388                         31                        2   \n",
       "119389                         29                        2   \n",
       "\n",
       "        stays_in_week_nights  adults  ...  deposit_type  agent company  \\\n",
       "0                          0       2  ...    No Deposit    NaN     NaN   \n",
       "1                          0       2  ...    No Deposit    NaN     NaN   \n",
       "2                          1       1  ...    No Deposit    NaN     NaN   \n",
       "3                          1       1  ...    No Deposit  304.0     NaN   \n",
       "4                          2       2  ...    No Deposit  240.0     NaN   \n",
       "...                      ...     ...  ...           ...    ...     ...   \n",
       "119385                     5       2  ...    No Deposit  394.0     NaN   \n",
       "119386                     5       3  ...    No Deposit    9.0     NaN   \n",
       "119387                     5       2  ...    No Deposit    9.0     NaN   \n",
       "119388                     5       2  ...    No Deposit   89.0     NaN   \n",
       "119389                     7       2  ...    No Deposit    9.0     NaN   \n",
       "\n",
       "       days_in_waiting_list customer_type     adr  \\\n",
       "0                         0     Transient    0.00   \n",
       "1                         0     Transient    0.00   \n",
       "2                         0     Transient   75.00   \n",
       "3                         0     Transient   75.00   \n",
       "4                         0     Transient   98.00   \n",
       "...                     ...           ...     ...   \n",
       "119385                    0     Transient   96.14   \n",
       "119386                    0     Transient  225.43   \n",
       "119387                    0     Transient  157.71   \n",
       "119388                    0     Transient  104.40   \n",
       "119389                    0     Transient  151.20   \n",
       "\n",
       "        required_car_parking_spaces  total_of_special_requests  \\\n",
       "0                                 0                          0   \n",
       "1                                 0                          0   \n",
       "2                                 0                          0   \n",
       "3                                 0                          0   \n",
       "4                                 0                          1   \n",
       "...                             ...                        ...   \n",
       "119385                            0                          0   \n",
       "119386                            0                          2   \n",
       "119387                            0                          4   \n",
       "119388                            0                          0   \n",
       "119389                            0                          2   \n",
       "\n",
       "        reservation_status reservation_status_date  \n",
       "0                Check-Out                  7/1/15  \n",
       "1                Check-Out                  7/1/15  \n",
       "2                Check-Out                  7/2/15  \n",
       "3                Check-Out                  7/2/15  \n",
       "4                Check-Out                  7/3/15  \n",
       "...                    ...                     ...  \n",
       "119385           Check-Out                  9/6/17  \n",
       "119386           Check-Out                  9/7/17  \n",
       "119387           Check-Out                  9/7/17  \n",
       "119388           Check-Out                  9/7/17  \n",
       "119389           Check-Out                  9/7/17  \n",
       "\n",
       "[119390 rows x 32 columns]"
      ]
     },
     "execution_count": 2,
     "metadata": {},
     "output_type": "execute_result"
    }
   ],
   "source": [
    "# Loading the dataset and preview.\n",
    "df = pd.read_csv('hotel_bookings.csv')\n",
    "df"
   ]
  },
  {
   "cell_type": "code",
   "execution_count": 3,
   "id": "011a43ae",
   "metadata": {},
   "outputs": [
    {
     "data": {
      "text/plain": [
       "Index(['hotel', 'is_canceled', 'lead_time', 'arrival_date_year',\n",
       "       'arrival_date_month', 'arrival_date_week_number',\n",
       "       'arrival_date_day_of_month', 'stays_in_weekend_nights',\n",
       "       'stays_in_week_nights', 'adults', 'children', 'babies', 'meal',\n",
       "       'country', 'market_segment', 'distribution_channel',\n",
       "       'is_repeated_guest', 'previous_cancellations',\n",
       "       'previous_bookings_not_canceled', 'reserved_room_type',\n",
       "       'assigned_room_type', 'booking_changes', 'deposit_type', 'agent',\n",
       "       'company', 'days_in_waiting_list', 'customer_type', 'adr',\n",
       "       'required_car_parking_spaces', 'total_of_special_requests',\n",
       "       'reservation_status', 'reservation_status_date'],\n",
       "      dtype='object')"
      ]
     },
     "execution_count": 3,
     "metadata": {},
     "output_type": "execute_result"
    }
   ],
   "source": [
    "# Checking all the column names\n",
    "df.columns"
   ]
  },
  {
   "cell_type": "code",
   "execution_count": 4,
   "id": "f91e83e7",
   "metadata": {},
   "outputs": [
    {
     "name": "stdout",
     "output_type": "stream",
     "text": [
      "<class 'pandas.core.frame.DataFrame'>\n",
      "RangeIndex: 119390 entries, 0 to 119389\n",
      "Data columns (total 32 columns):\n",
      " #   Column                          Non-Null Count   Dtype  \n",
      "---  ------                          --------------   -----  \n",
      " 0   hotel                           119390 non-null  object \n",
      " 1   is_canceled                     119390 non-null  int64  \n",
      " 2   lead_time                       119390 non-null  int64  \n",
      " 3   arrival_date_year               119390 non-null  int64  \n",
      " 4   arrival_date_month              119390 non-null  object \n",
      " 5   arrival_date_week_number        119390 non-null  int64  \n",
      " 6   arrival_date_day_of_month       119390 non-null  int64  \n",
      " 7   stays_in_weekend_nights         119390 non-null  int64  \n",
      " 8   stays_in_week_nights            119390 non-null  int64  \n",
      " 9   adults                          119390 non-null  int64  \n",
      " 10  children                        119386 non-null  float64\n",
      " 11  babies                          119390 non-null  int64  \n",
      " 12  meal                            119390 non-null  object \n",
      " 13  country                         118902 non-null  object \n",
      " 14  market_segment                  119390 non-null  object \n",
      " 15  distribution_channel            119390 non-null  object \n",
      " 16  is_repeated_guest               119390 non-null  int64  \n",
      " 17  previous_cancellations          119390 non-null  int64  \n",
      " 18  previous_bookings_not_canceled  119390 non-null  int64  \n",
      " 19  reserved_room_type              119390 non-null  object \n",
      " 20  assigned_room_type              119390 non-null  object \n",
      " 21  booking_changes                 119390 non-null  int64  \n",
      " 22  deposit_type                    119390 non-null  object \n",
      " 23  agent                           103050 non-null  float64\n",
      " 24  company                         6797 non-null    float64\n",
      " 25  days_in_waiting_list            119390 non-null  int64  \n",
      " 26  customer_type                   119390 non-null  object \n",
      " 27  adr                             119390 non-null  float64\n",
      " 28  required_car_parking_spaces     119390 non-null  int64  \n",
      " 29  total_of_special_requests       119390 non-null  int64  \n",
      " 30  reservation_status              119390 non-null  object \n",
      " 31  reservation_status_date         119390 non-null  object \n",
      "dtypes: float64(4), int64(16), object(12)\n",
      "memory usage: 29.1+ MB\n"
     ]
    }
   ],
   "source": [
    "# Checking the description of the dataset\n",
    "df.info()"
   ]
  },
  {
   "cell_type": "code",
   "execution_count": 5,
   "id": "accaaa1d",
   "metadata": {},
   "outputs": [
    {
     "name": "stdout",
     "output_type": "stream",
     "text": [
      "Index(['hotel', 'arrival_date_month', 'meal', 'country', 'market_segment',\n",
      "       'distribution_channel', 'reserved_room_type', 'assigned_room_type',\n",
      "       'deposit_type', 'customer_type', 'reservation_status',\n",
      "       'reservation_status_date'],\n",
      "      dtype='object')\n"
     ]
    }
   ],
   "source": [
    "# inspecting the categorical columns\n",
    "categorical_columns = df.select_dtypes(include=['object']).columns\n",
    "print(categorical_columns)"
   ]
  },
  {
   "cell_type": "code",
   "execution_count": 6,
   "id": "cb60df6f",
   "metadata": {},
   "outputs": [
    {
     "data": {
      "text/html": [
       "<div>\n",
       "<style scoped>\n",
       "    .dataframe tbody tr th:only-of-type {\n",
       "        vertical-align: middle;\n",
       "    }\n",
       "\n",
       "    .dataframe tbody tr th {\n",
       "        vertical-align: top;\n",
       "    }\n",
       "\n",
       "    .dataframe thead th {\n",
       "        text-align: right;\n",
       "    }\n",
       "</style>\n",
       "<table border=\"1\" class=\"dataframe\">\n",
       "  <thead>\n",
       "    <tr style=\"text-align: right;\">\n",
       "      <th></th>\n",
       "      <th>count</th>\n",
       "      <th>mean</th>\n",
       "      <th>std</th>\n",
       "      <th>min</th>\n",
       "      <th>25%</th>\n",
       "      <th>50%</th>\n",
       "      <th>75%</th>\n",
       "      <th>max</th>\n",
       "    </tr>\n",
       "  </thead>\n",
       "  <tbody>\n",
       "    <tr>\n",
       "      <th>is_canceled</th>\n",
       "      <td>119390.0</td>\n",
       "      <td>0.370416</td>\n",
       "      <td>0.482918</td>\n",
       "      <td>0.00</td>\n",
       "      <td>0.00</td>\n",
       "      <td>0.000</td>\n",
       "      <td>1.0</td>\n",
       "      <td>1.0</td>\n",
       "    </tr>\n",
       "    <tr>\n",
       "      <th>lead_time</th>\n",
       "      <td>119390.0</td>\n",
       "      <td>104.011416</td>\n",
       "      <td>106.863097</td>\n",
       "      <td>0.00</td>\n",
       "      <td>18.00</td>\n",
       "      <td>69.000</td>\n",
       "      <td>160.0</td>\n",
       "      <td>737.0</td>\n",
       "    </tr>\n",
       "    <tr>\n",
       "      <th>arrival_date_year</th>\n",
       "      <td>119390.0</td>\n",
       "      <td>2016.156554</td>\n",
       "      <td>0.707476</td>\n",
       "      <td>2015.00</td>\n",
       "      <td>2016.00</td>\n",
       "      <td>2016.000</td>\n",
       "      <td>2017.0</td>\n",
       "      <td>2017.0</td>\n",
       "    </tr>\n",
       "    <tr>\n",
       "      <th>arrival_date_week_number</th>\n",
       "      <td>119390.0</td>\n",
       "      <td>27.165173</td>\n",
       "      <td>13.605138</td>\n",
       "      <td>1.00</td>\n",
       "      <td>16.00</td>\n",
       "      <td>28.000</td>\n",
       "      <td>38.0</td>\n",
       "      <td>53.0</td>\n",
       "    </tr>\n",
       "    <tr>\n",
       "      <th>arrival_date_day_of_month</th>\n",
       "      <td>119390.0</td>\n",
       "      <td>15.798241</td>\n",
       "      <td>8.780829</td>\n",
       "      <td>1.00</td>\n",
       "      <td>8.00</td>\n",
       "      <td>16.000</td>\n",
       "      <td>23.0</td>\n",
       "      <td>31.0</td>\n",
       "    </tr>\n",
       "    <tr>\n",
       "      <th>stays_in_weekend_nights</th>\n",
       "      <td>119390.0</td>\n",
       "      <td>0.927599</td>\n",
       "      <td>0.998613</td>\n",
       "      <td>0.00</td>\n",
       "      <td>0.00</td>\n",
       "      <td>1.000</td>\n",
       "      <td>2.0</td>\n",
       "      <td>19.0</td>\n",
       "    </tr>\n",
       "    <tr>\n",
       "      <th>stays_in_week_nights</th>\n",
       "      <td>119390.0</td>\n",
       "      <td>2.500302</td>\n",
       "      <td>1.908286</td>\n",
       "      <td>0.00</td>\n",
       "      <td>1.00</td>\n",
       "      <td>2.000</td>\n",
       "      <td>3.0</td>\n",
       "      <td>50.0</td>\n",
       "    </tr>\n",
       "    <tr>\n",
       "      <th>adults</th>\n",
       "      <td>119390.0</td>\n",
       "      <td>1.856403</td>\n",
       "      <td>0.579261</td>\n",
       "      <td>0.00</td>\n",
       "      <td>2.00</td>\n",
       "      <td>2.000</td>\n",
       "      <td>2.0</td>\n",
       "      <td>55.0</td>\n",
       "    </tr>\n",
       "    <tr>\n",
       "      <th>children</th>\n",
       "      <td>119386.0</td>\n",
       "      <td>0.103890</td>\n",
       "      <td>0.398561</td>\n",
       "      <td>0.00</td>\n",
       "      <td>0.00</td>\n",
       "      <td>0.000</td>\n",
       "      <td>0.0</td>\n",
       "      <td>10.0</td>\n",
       "    </tr>\n",
       "    <tr>\n",
       "      <th>babies</th>\n",
       "      <td>119390.0</td>\n",
       "      <td>0.007949</td>\n",
       "      <td>0.097436</td>\n",
       "      <td>0.00</td>\n",
       "      <td>0.00</td>\n",
       "      <td>0.000</td>\n",
       "      <td>0.0</td>\n",
       "      <td>10.0</td>\n",
       "    </tr>\n",
       "    <tr>\n",
       "      <th>is_repeated_guest</th>\n",
       "      <td>119390.0</td>\n",
       "      <td>0.031912</td>\n",
       "      <td>0.175767</td>\n",
       "      <td>0.00</td>\n",
       "      <td>0.00</td>\n",
       "      <td>0.000</td>\n",
       "      <td>0.0</td>\n",
       "      <td>1.0</td>\n",
       "    </tr>\n",
       "    <tr>\n",
       "      <th>previous_cancellations</th>\n",
       "      <td>119390.0</td>\n",
       "      <td>0.087118</td>\n",
       "      <td>0.844336</td>\n",
       "      <td>0.00</td>\n",
       "      <td>0.00</td>\n",
       "      <td>0.000</td>\n",
       "      <td>0.0</td>\n",
       "      <td>26.0</td>\n",
       "    </tr>\n",
       "    <tr>\n",
       "      <th>previous_bookings_not_canceled</th>\n",
       "      <td>119390.0</td>\n",
       "      <td>0.137097</td>\n",
       "      <td>1.497437</td>\n",
       "      <td>0.00</td>\n",
       "      <td>0.00</td>\n",
       "      <td>0.000</td>\n",
       "      <td>0.0</td>\n",
       "      <td>72.0</td>\n",
       "    </tr>\n",
       "    <tr>\n",
       "      <th>booking_changes</th>\n",
       "      <td>119390.0</td>\n",
       "      <td>0.221124</td>\n",
       "      <td>0.652306</td>\n",
       "      <td>0.00</td>\n",
       "      <td>0.00</td>\n",
       "      <td>0.000</td>\n",
       "      <td>0.0</td>\n",
       "      <td>21.0</td>\n",
       "    </tr>\n",
       "    <tr>\n",
       "      <th>agent</th>\n",
       "      <td>103050.0</td>\n",
       "      <td>86.693382</td>\n",
       "      <td>110.774548</td>\n",
       "      <td>1.00</td>\n",
       "      <td>9.00</td>\n",
       "      <td>14.000</td>\n",
       "      <td>229.0</td>\n",
       "      <td>535.0</td>\n",
       "    </tr>\n",
       "    <tr>\n",
       "      <th>company</th>\n",
       "      <td>6797.0</td>\n",
       "      <td>189.266735</td>\n",
       "      <td>131.655015</td>\n",
       "      <td>6.00</td>\n",
       "      <td>62.00</td>\n",
       "      <td>179.000</td>\n",
       "      <td>270.0</td>\n",
       "      <td>543.0</td>\n",
       "    </tr>\n",
       "    <tr>\n",
       "      <th>days_in_waiting_list</th>\n",
       "      <td>119390.0</td>\n",
       "      <td>2.321149</td>\n",
       "      <td>17.594721</td>\n",
       "      <td>0.00</td>\n",
       "      <td>0.00</td>\n",
       "      <td>0.000</td>\n",
       "      <td>0.0</td>\n",
       "      <td>391.0</td>\n",
       "    </tr>\n",
       "    <tr>\n",
       "      <th>adr</th>\n",
       "      <td>119390.0</td>\n",
       "      <td>101.831122</td>\n",
       "      <td>50.535790</td>\n",
       "      <td>-6.38</td>\n",
       "      <td>69.29</td>\n",
       "      <td>94.575</td>\n",
       "      <td>126.0</td>\n",
       "      <td>5400.0</td>\n",
       "    </tr>\n",
       "    <tr>\n",
       "      <th>required_car_parking_spaces</th>\n",
       "      <td>119390.0</td>\n",
       "      <td>0.062518</td>\n",
       "      <td>0.245291</td>\n",
       "      <td>0.00</td>\n",
       "      <td>0.00</td>\n",
       "      <td>0.000</td>\n",
       "      <td>0.0</td>\n",
       "      <td>8.0</td>\n",
       "    </tr>\n",
       "    <tr>\n",
       "      <th>total_of_special_requests</th>\n",
       "      <td>119390.0</td>\n",
       "      <td>0.571363</td>\n",
       "      <td>0.792798</td>\n",
       "      <td>0.00</td>\n",
       "      <td>0.00</td>\n",
       "      <td>0.000</td>\n",
       "      <td>1.0</td>\n",
       "      <td>5.0</td>\n",
       "    </tr>\n",
       "  </tbody>\n",
       "</table>\n",
       "</div>"
      ],
      "text/plain": [
       "                                   count         mean         std      min  \\\n",
       "is_canceled                     119390.0     0.370416    0.482918     0.00   \n",
       "lead_time                       119390.0   104.011416  106.863097     0.00   \n",
       "arrival_date_year               119390.0  2016.156554    0.707476  2015.00   \n",
       "arrival_date_week_number        119390.0    27.165173   13.605138     1.00   \n",
       "arrival_date_day_of_month       119390.0    15.798241    8.780829     1.00   \n",
       "stays_in_weekend_nights         119390.0     0.927599    0.998613     0.00   \n",
       "stays_in_week_nights            119390.0     2.500302    1.908286     0.00   \n",
       "adults                          119390.0     1.856403    0.579261     0.00   \n",
       "children                        119386.0     0.103890    0.398561     0.00   \n",
       "babies                          119390.0     0.007949    0.097436     0.00   \n",
       "is_repeated_guest               119390.0     0.031912    0.175767     0.00   \n",
       "previous_cancellations          119390.0     0.087118    0.844336     0.00   \n",
       "previous_bookings_not_canceled  119390.0     0.137097    1.497437     0.00   \n",
       "booking_changes                 119390.0     0.221124    0.652306     0.00   \n",
       "agent                           103050.0    86.693382  110.774548     1.00   \n",
       "company                           6797.0   189.266735  131.655015     6.00   \n",
       "days_in_waiting_list            119390.0     2.321149   17.594721     0.00   \n",
       "adr                             119390.0   101.831122   50.535790    -6.38   \n",
       "required_car_parking_spaces     119390.0     0.062518    0.245291     0.00   \n",
       "total_of_special_requests       119390.0     0.571363    0.792798     0.00   \n",
       "\n",
       "                                    25%       50%     75%     max  \n",
       "is_canceled                        0.00     0.000     1.0     1.0  \n",
       "lead_time                         18.00    69.000   160.0   737.0  \n",
       "arrival_date_year               2016.00  2016.000  2017.0  2017.0  \n",
       "arrival_date_week_number          16.00    28.000    38.0    53.0  \n",
       "arrival_date_day_of_month          8.00    16.000    23.0    31.0  \n",
       "stays_in_weekend_nights            0.00     1.000     2.0    19.0  \n",
       "stays_in_week_nights               1.00     2.000     3.0    50.0  \n",
       "adults                             2.00     2.000     2.0    55.0  \n",
       "children                           0.00     0.000     0.0    10.0  \n",
       "babies                             0.00     0.000     0.0    10.0  \n",
       "is_repeated_guest                  0.00     0.000     0.0     1.0  \n",
       "previous_cancellations             0.00     0.000     0.0    26.0  \n",
       "previous_bookings_not_canceled     0.00     0.000     0.0    72.0  \n",
       "booking_changes                    0.00     0.000     0.0    21.0  \n",
       "agent                              9.00    14.000   229.0   535.0  \n",
       "company                           62.00   179.000   270.0   543.0  \n",
       "days_in_waiting_list               0.00     0.000     0.0   391.0  \n",
       "adr                               69.29    94.575   126.0  5400.0  \n",
       "required_car_parking_spaces        0.00     0.000     0.0     8.0  \n",
       "total_of_special_requests          0.00     0.000     1.0     5.0  "
      ]
     },
     "execution_count": 6,
     "metadata": {},
     "output_type": "execute_result"
    }
   ],
   "source": [
    "# Checking the descriptive statistics of the dataset\n",
    "df.describe().transpose()"
   ]
  },
  {
   "cell_type": "markdown",
   "id": "401e6b05",
   "metadata": {},
   "source": [
    "### Exploratory Data Analysis (EDA)\n",
    "We will first analyze the key determinants influencing hotel booking cancellations."
   ]
  },
  {
   "cell_type": "code",
   "execution_count": 7,
   "id": "f3d1a5ba",
   "metadata": {},
   "outputs": [
    {
     "data": {
      "image/png": "[encoded data removed]",
      "text/plain": [
       "<Figure size 720x360 with 1 Axes>"
      ]
     },
     "metadata": {
      "needs_background": "light"
     },
     "output_type": "display_data"
    }
   ],
   "source": [
    "\n",
    "def plot_numeric_distribution(data, numeric_column):\n",
    "    plt.figure(figsize=(10, 5))\n",
    "\n",
    "    # Create a histogram for the numeric column\n",
    "    sns.histplot(data[numeric_column])\n",
    "\n",
    "    plt.title(f'Distribution of {numeric_column}')\n",
    "    plt.xlabel(numeric_column)\n",
    "    plt.ylabel('Frequency')\n",
    "    plt.show()\n",
    "\n",
    "plot_numeric_distribution(df, 'lead_time')\n"
   ]
  },
  {
   "cell_type": "code",
   "execution_count": 8,
   "id": "480dbfb1",
   "metadata": {},
   "outputs": [
    {
     "data": {
      "image/png": "[encoded data removed]",
      "text/plain": [
       "<Figure size 720x360 with 1 Axes>"
      ]
     },
     "metadata": {
      "needs_background": "light"
     },
     "output_type": "display_data"
    }
   ],
   "source": [
    "plot_numeric_distribution(df, 'adr')"
   ]
  },
  {
   "cell_type": "code",
   "execution_count": 9,
   "id": "4abf973d",
   "metadata": {},
   "outputs": [
    {
     "data": {
      "image/png": "[encoded data removed]",
      "text/plain": [
       "<Figure size 720x360 with 1 Axes>"
      ]
     },
     "metadata": {
      "needs_background": "light"
     },
     "output_type": "display_data"
    }
   ],
   "source": [
    "plot_numeric_distribution(df, 'booking_changes')"
   ]
  },
  {
   "cell_type": "code",
   "execution_count": 10,
   "id": "9122b8b9",
   "metadata": {},
   "outputs": [
    {
     "data": {
      "image/png": "[encoded data removed]",
      "text/plain": [
       "<Figure size 720x432 with 1 Axes>"
      ]
     },
     "metadata": {
      "needs_background": "light"
     },
     "output_type": "display_data"
    }
   ],
   "source": [
    "def plot_categorical_distribution(data, categorical_column):\n",
    "    plt.figure(figsize=(10, 6))\n",
    "\n",
    "    # Create a countplot for the categorical column\n",
    "    sns.countplot(x=categorical_column, data=data, palette='viridis')\n",
    "\n",
    "    plt.title(f'Distribution of {categorical_column}')\n",
    "    plt.xlabel(categorical_column)\n",
    "    plt.ylabel('Count')\n",
    "    plt.show()\n",
    "\n",
    "plot_categorical_distribution(df, 'customer_type')\n"
   ]
  },
  {
   "cell_type": "code",
   "execution_count": 11,
   "id": "b71ac0fb",
   "metadata": {},
   "outputs": [
    {
     "data": {
      "image/png": "[encoded data removed]",
      "text/plain": [
       "<Figure size 720x432 with 1 Axes>"
      ]
     },
     "metadata": {
      "needs_background": "light"
     },
     "output_type": "display_data"
    }
   ],
   "source": [
    "plot_categorical_distribution(df, 'meal')"
   ]
  },
  {
   "cell_type": "code",
   "execution_count": 12,
   "id": "7199997a",
   "metadata": {},
   "outputs": [
    {
     "data": {
      "image/png": "[encoded data removed]",
      "text/plain": [
       "<Figure size 720x432 with 1 Axes>"
      ]
     },
     "metadata": {
      "needs_background": "light"
     },
     "output_type": "display_data"
    }
   ],
   "source": [
    "plot_categorical_distribution(df, 'market_segment')"
   ]
  },
  {
   "cell_type": "code",
   "execution_count": 13,
   "id": "0c7a79e7",
   "metadata": {},
   "outputs": [
    {
     "data": {
      "image/png": "[encoded data removed]",
      "text/plain": [
       "<Figure size 576x432 with 1 Axes>"
      ]
     },
     "metadata": {
      "needs_background": "light"
     },
     "output_type": "display_data"
    }
   ],
   "source": [
    "# Calculate percentages\n",
    "meal_percentages = df['meal'].value_counts() / len(df) * 100\n",
    "plt.figure(figsize=(8, 6))\n",
    "ax = sns.barplot(x=meal_percentages.index, y=meal_percentages.values, palette='viridis')\n",
    "\n",
    "# Annotate each bar with its percentage value\n",
    "for p in ax.patches:\n",
    "    ax.annotate(f'{p.get_height():.2f}%', (p.get_x() + p.get_width() / 2., p.get_height()),\n",
    "                ha='center', va='center', fontsize=10, color='black', xytext=(0, 10),\n",
    "                textcoords='offset points')\n",
    "\n",
    "plt.title('Distribution of Meal Types')\n",
    "plt.xlabel('Meal Type')\n",
    "plt.ylabel('Percentage')\n",
    "plt.show()"
   ]
  },
  {
   "cell_type": "code",
   "execution_count": 14,
   "id": "ff07d54c",
   "metadata": {},
   "outputs": [
    {
     "data": {
      "image/png": "[encoded data removed]",
      "text/plain": [
       "<Figure size 576x432 with 1 Axes>"
      ]
     },
     "metadata": {
      "needs_background": "light"
     },
     "output_type": "display_data"
    }
   ],
   "source": [
    "# Calculate percentages\n",
    "guest_percentages = df['is_repeated_guest'].value_counts(normalize=True) * 100\n",
    "\n",
    "# Plotting a countplot for is_canceled\n",
    "plt.figure(figsize=(8, 6))\n",
    "ax = sns.countplot(x='is_repeated_guest', data=df, palette='viridis')\n",
    "\n",
    "# Annotate each bar with its percentage value\n",
    "total_count = len(df['is_repeated_guest'])\n",
    "for p in ax.patches:\n",
    "    height = p.get_height()\n",
    "    ax.text(p.get_x() + p.get_width() / 2., height + 0.5,\n",
    "            f'{height/total_count*100:.2f}%', ha='center', va='center', fontsize=10, color='black')\n",
    "\n",
    "plt.title('Distribution of Repeated Guests')\n",
    "plt.xlabel('Repeated (1) or Not Repeated (0)')\n",
    "plt.ylabel('Percentage')\n",
    "plt.show()"
   ]
  },
  {
   "cell_type": "code",
   "execution_count": 15,
   "id": "f39390f8",
   "metadata": {},
   "outputs": [
    {
     "data": {
      "image/png": "[encoded data removed]",
      "text/plain": [
       "<Figure size 576x432 with 1 Axes>"
      ]
     },
     "metadata": {
      "needs_background": "light"
     },
     "output_type": "display_data"
    }
   ],
   "source": [
    "# Calculate percentages\n",
    "cancel_percentages = df['required_car_parking_spaces'].value_counts(normalize=True) * 100\n",
    "\n",
    "# Plotting a countplot for is_canceled\n",
    "plt.figure(figsize=(8, 6))\n",
    "ax = sns.countplot(x='required_car_parking_spaces', data=df, palette='viridis')\n",
    "\n",
    "# Annotate each bar with its percentage value\n",
    "total_count = len(df['required_car_parking_spaces'])\n",
    "for p in ax.patches:\n",
    "    height = p.get_height()\n",
    "    ax.text(p.get_x() + p.get_width() / 2., height + 0.5,\n",
    "            f'{height/total_count*100:.2f}%', ha='center', va='center', fontsize=10, color='black')\n",
    "\n",
    "plt.title('Distribution of required_car_parking_spaces')\n",
    "plt.xlabel('Require parking (1) or Dont requre Parkin(0)')\n",
    "plt.ylabel('Percentage')\n",
    "plt.show()"
   ]
  },
  {
   "cell_type": "code",
   "execution_count": 16,
   "id": "7d5e3a53",
   "metadata": {},
   "outputs": [
    {
     "data": {
      "image/png": "[encoded data removed]",
      "text/plain": [
       "<Figure size 576x432 with 1 Axes>"
      ]
     },
     "metadata": {
      "needs_background": "light"
     },
     "output_type": "display_data"
    }
   ],
   "source": [
    "# Calculate percentages\n",
    "cancel_percentages = df['is_canceled'].value_counts(normalize=True) * 100\n",
    "\n",
    "# Plotting a countplot for is_canceled\n",
    "plt.figure(figsize=(8, 6))\n",
    "ax = sns.countplot(x='is_canceled', data=df, palette='viridis')\n",
    "\n",
    "# Annotate each bar with its percentage value\n",
    "total_count = len(df['is_canceled'])\n",
    "for p in ax.patches:\n",
    "    height = p.get_height()\n",
    "    ax.text(p.get_x() + p.get_width() / 2., height + 0.5,\n",
    "            f'{height/total_count*100:.2f}%', ha='center', va='center', fontsize=10, color='black')\n",
    "\n",
    "plt.title('Distribution of Cancellations')\n",
    "plt.xlabel('Booking Canceled (1) or Not Canceled (0)')\n",
    "plt.ylabel('Percentage')\n",
    "plt.show()"
   ]
  },
  {
   "cell_type": "code",
   "execution_count": 17,
   "id": "9bddb07c",
   "metadata": {},
   "outputs": [
    {
     "data": {
      "image/png": "[encoded data removed]",
      "text/plain": [
       "<Figure size 432x288 with 1 Axes>"
      ]
     },
     "metadata": {
      "needs_background": "light"
     },
     "output_type": "display_data"
    }
   ],
   "source": [
    "# Cancellations based on hotel type\n",
    "sns.countplot(x='hotel', hue='is_canceled', data=df, palette='viridis')\n",
    "plt.title('Cancellations by Hotel Type')\n",
    "plt.xlabel('Hotel Type')\n",
    "plt.ylabel('Count')\n",
    "plt.show()"
   ]
  },
  {
   "cell_type": "code",
   "execution_count": 18,
   "id": "877a83c1",
   "metadata": {},
   "outputs": [
    {
     "data": {
      "image/png": "[encoded data removed]",
      "text/plain": [
       "<Figure size 432x288 with 1 Axes>"
      ]
     },
     "metadata": {
      "needs_background": "light"
     },
     "output_type": "display_data"
    }
   ],
   "source": [
    "#Cancellations based on lead time\n",
    "sns.boxplot(x='is_canceled', y='lead_time', data=df, palette='pastel')\n",
    "plt.title('Lead Time vs. Cancellations')\n",
    "plt.xlabel('Booking Canceled (1) or Not Canceled (0)')\n",
    "plt.ylabel('Lead Time')\n",
    "plt.show()\n"
   ]
  },
  {
   "cell_type": "code",
   "execution_count": 19,
   "id": "025b29d9",
   "metadata": {},
   "outputs": [
    {
     "data": {
      "image/png": "[encoded data removed]",
      "text/plain": [
       "<Figure size 720x432 with 1 Axes>"
      ]
     },
     "metadata": {
      "needs_background": "light"
     },
     "output_type": "display_data"
    }
   ],
   "source": [
    "# KDE Plot for lead times based on cancellations\n",
    "plt.figure(figsize=(10, 6))\n",
    "\n",
    "# Plotting KDE for lead times of canceled bookings\n",
    "sns.kdeplot(df[df['is_canceled'] == 1]['lead_time'], label='Canceled', fill=True, color='red')\n",
    "\n",
    "# Plotting KDE for lead times of non-canceled bookings\n",
    "sns.kdeplot(df[df['is_canceled'] == 0]['lead_time'], label='Not Canceled', fill=True, color='green')\n",
    "\n",
    "plt.title('Distribution of Lead Times for Canceled and Non-Canceled Bookings')\n",
    "plt.xlabel('Lead Time')\n",
    "plt.ylabel('Density')\n",
    "plt.legend()\n",
    "plt.show()\n"
   ]
  },
  {
   "cell_type": "code",
   "execution_count": 20,
   "id": "8c5e5d41",
   "metadata": {},
   "outputs": [
    {
     "data": {
      "image/png": "[encoded data removed]",
      "text/plain": [
       "<Figure size 864x432 with 1 Axes>"
      ]
     },
     "metadata": {
      "needs_background": "light"
     },
     "output_type": "display_data"
    }
   ],
   "source": [
    "# Calculate total counts for each month\n",
    "month_counts = df['arrival_date_month'].value_counts()\n",
    "\n",
    "# Sort months based on counts\n",
    "sorted_months = month_counts.index\n",
    "\n",
    "# Plotting a countplot for cancellations across different months with sorted order\n",
    "plt.figure(figsize=(12, 6))\n",
    "sns.countplot(x='arrival_date_month', hue='is_canceled', data=df, order=sorted_months, palette='viridis')\n",
    "\n",
    "plt.title('Cancellations Across Different Months (Sorted by Count)')\n",
    "plt.xlabel('Month')\n",
    "plt.ylabel('Count')\n",
    "plt.legend(title='Booking Canceled', labels=['Not Canceled', 'Canceled'])\n",
    "plt.xticks(rotation=45)  # Rotate x-axis labels for better readability\n",
    "plt.show()\n"
   ]
  },
  {
   "cell_type": "code",
   "execution_count": 21,
   "id": "caaf44cf",
   "metadata": {},
   "outputs": [
    {
     "data": {
      "image/png": "[encoded data removed]",
      "text/plain": [
       "<Figure size 864x432 with 1 Axes>"
      ]
     },
     "metadata": {
      "needs_background": "light"
     },
     "output_type": "display_data"
    }
   ],
   "source": [
    "plt.figure(figsize=(12, 6))\n",
    "\n",
    "# Plotting a countplot for cancellations by meal type\n",
    "sns.countplot(x='meal', hue='is_canceled', data=df, palette='viridis')\n",
    "\n",
    "plt.title('Cancellations by Meal Type')\n",
    "plt.xlabel('Meal Type')\n",
    "plt.ylabel('Count')\n",
    "plt.legend(title='Booking Canceled', labels=['Not Canceled', 'Canceled'])\n",
    "plt.show()"
   ]
  },
  {
   "cell_type": "code",
   "execution_count": 22,
   "id": "8ef49e41",
   "metadata": {},
   "outputs": [
    {
     "data": {
      "image/png": "[encoded data removed]",
      "text/plain": [
       "<Figure size 432x288 with 1 Axes>"
      ]
     },
     "metadata": {
      "needs_background": "light"
     },
     "output_type": "display_data"
    }
   ],
   "source": [
    "# Plotting a countplot for cancellations by market segment\n",
    "sns.countplot(x='market_segment', hue='is_canceled', data=df, palette='viridis')\n",
    "\n",
    "plt.title('Cancellations by Market Segment')\n",
    "plt.xlabel('Market Segment')\n",
    "plt.ylabel('Count')\n",
    "plt.legend(title='Booking Canceled', labels=['Not Canceled', 'Canceled'])\n",
    "plt.xticks(rotation=45)  # Rotate x-axis labels for better readability\n",
    "plt.show()"
   ]
  },
  {
   "cell_type": "code",
   "execution_count": 23,
   "id": "1895693e",
   "metadata": {},
   "outputs": [
    {
     "data": {
      "image/png": "[encoded data removed]",
      "text/plain": [
       "<Figure size 432x288 with 1 Axes>"
      ]
     },
     "metadata": {
      "needs_background": "light"
     },
     "output_type": "display_data"
    }
   ],
   "source": [
    "# Plotting a countplot for cancellations by distribution channel\n",
    "sns.countplot(x='distribution_channel', hue='is_canceled', data=df, palette='viridis')\n",
    "\n",
    "plt.title('Cancellations by Distribution Channel')\n",
    "plt.xlabel('Distribution Channel')\n",
    "plt.ylabel('Count')\n",
    "plt.legend(title='Booking Canceled', labels=['Not Canceled', 'Canceled'])\n",
    "plt.xticks(rotation=45)  # Rotate x-axis labels for better readability\n",
    "plt.show()"
   ]
  },
  {
   "cell_type": "code",
   "execution_count": 24,
   "id": "46df1cb7",
   "metadata": {},
   "outputs": [
    {
     "name": "stdout",
     "output_type": "stream",
     "text": [
      "is_canceled          0          1\n",
      "meal                             \n",
      "BB           62.615101  37.384899\n",
      "FB           40.100251  59.899749\n",
      "HB           65.539653  34.460347\n",
      "SC           62.760563  37.239437\n",
      "Undefined    75.534645  24.465355\n"
     ]
    }
   ],
   "source": [
    "# Create a cross-tabulation to show cancellations by meal type\n",
    "meal_crosstab = pd.crosstab(df['meal'], df['is_canceled'], normalize='index') * 100\n",
    "\n",
    "# Display the cross-tabulation\n",
    "print(meal_crosstab)\n"
   ]
  },
  {
   "cell_type": "code",
   "execution_count": 25,
   "id": "4f676e67",
   "metadata": {},
   "outputs": [
    {
     "name": "stdout",
     "output_type": "stream",
     "text": [
      "is_canceled             0           1\n",
      "market_segment                       \n",
      "Aviation        78.059072   21.940928\n",
      "Complementary   86.944818   13.055182\n",
      "Corporate       81.265345   18.734655\n",
      "Direct          84.658099   15.341901\n",
      "Groups          38.937964   61.062036\n",
      "Offline TA/TO   65.683967   34.316033\n",
      "Online TA       63.278857   36.721143\n",
      "Undefined        0.000000  100.000000\n"
     ]
    }
   ],
   "source": [
    "# Create a cross-tabulation to show cancellations by market segment\n",
    "segment_crosstab = pd.crosstab(df['market_segment'], df['is_canceled'], normalize='index') * 100\n",
    "\n",
    "# Display the cross-tabulation\n",
    "print(segment_crosstab)"
   ]
  },
  {
   "cell_type": "code",
   "execution_count": 26,
   "id": "efc734b4",
   "metadata": {},
   "outputs": [
    {
     "name": "stdout",
     "output_type": "stream",
     "text": [
      "is_canceled                   0          1\n",
      "distribution_channel                      \n",
      "Corporate             77.924217  22.075783\n",
      "Direct                82.540116  17.459884\n",
      "GDS                   80.829016  19.170984\n",
      "TA/TO                 58.974149  41.025851\n",
      "Undefined             20.000000  80.000000\n"
     ]
    }
   ],
   "source": [
    "# Create a cross-tabulation to show cancellations by distribution channel\n",
    "channel_crosstab = pd.crosstab(df['distribution_channel'], df['is_canceled'], normalize='index') * 100\n",
    "\n",
    "# Display the cross-tabulation\n",
    "print(channel_crosstab)"
   ]
  },
  {
   "cell_type": "code",
   "execution_count": 27,
   "id": "e9308ca0",
   "metadata": {},
   "outputs": [
    {
     "data": {
      "image/png": "[encoded data removed]",
      "text/plain": [
       "<Figure size 576x432 with 1 Axes>"
      ]
     },
     "metadata": {
      "needs_background": "light"
     },
     "output_type": "display_data"
    }
   ],
   "source": [
    "plt.figure(figsize=(8, 6))\n",
    "\n",
    "# Plotting a countplot for cancellations by deposit type\n",
    "sns.countplot(x='deposit_type', hue='is_canceled', data=df, palette='viridis')\n",
    "\n",
    "plt.title('Cancellations by Deposit Type')\n",
    "plt.xlabel('Deposit Type')\n",
    "plt.ylabel('Count')\n",
    "plt.legend(title='Booking Canceled', labels=['Not Canceled', 'Canceled'])\n",
    "plt.show()"
   ]
  },
  {
   "cell_type": "code",
   "execution_count": 28,
   "id": "62227eb7",
   "metadata": {},
   "outputs": [
    {
     "name": "stdout",
     "output_type": "stream",
     "text": [
      "is_canceled           0          1\n",
      "deposit_type                      \n",
      "No Deposit    71.622978  28.377022\n",
      "Non Refund     0.637554  99.362446\n",
      "Refundable    77.777778  22.222222\n"
     ]
    }
   ],
   "source": [
    "# Create a cross-tabulation to show cancellations by deposit type\n",
    "deposit_crosstab = pd.crosstab(df['deposit_type'], df['is_canceled'], normalize='index') * 100\n",
    "\n",
    "# Display the cross-tabulation\n",
    "print(deposit_crosstab)\n"
   ]
  },
  {
   "cell_type": "code",
   "execution_count": 29,
   "id": "eafe54e1",
   "metadata": {},
   "outputs": [
    {
     "name": "stdout",
     "output_type": "stream",
     "text": [
      "is_canceled                     0           1\n",
      "previous_cancellations                       \n",
      "0                       66.093919   33.906081\n",
      "1                        5.569327   94.430673\n",
      "2                       67.241379   32.758621\n",
      "3                       69.230769   30.769231\n",
      "4                       77.419355   22.580645\n",
      "5                       89.473684   10.526316\n",
      "6                       68.181818   31.818182\n",
      "11                      71.428571   28.571429\n",
      "13                       8.333333   91.666667\n",
      "14                       0.000000  100.000000\n",
      "19                       0.000000  100.000000\n",
      "21                       0.000000  100.000000\n",
      "24                       0.000000  100.000000\n",
      "25                       0.000000  100.000000\n",
      "26                       0.000000  100.000000\n"
     ]
    }
   ],
   "source": [
    "# Create a cross-tabulation to show the relationship between past cancellations and future cancellations\n",
    "cancellation_history_crosstab = pd.crosstab(df['previous_cancellations'], df['is_canceled'], normalize='index') * 100\n",
    "\n",
    "# Display the cross-tabulation\n",
    "print(cancellation_history_crosstab)\n",
    "\n"
   ]
  },
  {
   "cell_type": "markdown",
   "id": "437225f2",
   "metadata": {},
   "source": [
    "#### Investigate trends in customer types and their booking habits"
   ]
  },
  {
   "cell_type": "code",
   "execution_count": 30,
   "id": "75f3ed3a",
   "metadata": {},
   "outputs": [
    {
     "data": {
      "image/png": "[encoded data removed]",
      "text/plain": [
       "<Figure size 576x432 with 1 Axes>"
      ]
     },
     "metadata": {
      "needs_background": "light"
     },
     "output_type": "display_data"
    }
   ],
   "source": [
    "plt.figure(figsize=(8, 6))\n",
    "\n",
    "# Plotting a countplot for customer types\n",
    "ax = sns.countplot(x='customer_type', data=df, palette='viridis')\n",
    "\n",
    "# Annotate each bar with its percentage value\n",
    "total_count = len(df['customer_type'])\n",
    "for p in ax.patches:\n",
    "    height = p.get_height()\n",
    "    ax.text(p.get_x() + p.get_width() / 2., height + 0.5,\n",
    "            f'{height/total_count*100:.2f}%', ha='center', va='center', fontsize=10, color='black')\n",
    "\n",
    "plt.title('Distribution of Customer Types')\n",
    "plt.xlabel('Customer Type')\n",
    "plt.ylabel('Count')\n",
    "plt.show()\n"
   ]
  },
  {
   "cell_type": "code",
   "execution_count": 31,
   "id": "042302aa",
   "metadata": {},
   "outputs": [
    {
     "data": {
      "image/png": "[encoded data removed]",
      "text/plain": [
       "<Figure size 720x432 with 1 Axes>"
      ]
     },
     "metadata": {
      "needs_background": "light"
     },
     "output_type": "display_data"
    }
   ],
   "source": [
    "plt.figure(figsize=(10, 6))\n",
    "\n",
    "# Plotting a countplot for cancellations by customer types\n",
    "sns.countplot(x='customer_type', hue='is_canceled', data=df, palette='viridis')\n",
    "\n",
    "plt.title('Cancellations by Customer Types')\n",
    "plt.xlabel('Customer Type')\n",
    "plt.ylabel('Count')\n",
    "plt.legend(title='Booking Canceled', labels=['Not Canceled', 'Canceled'])\n",
    "plt.show()\n"
   ]
  },
  {
   "cell_type": "code",
   "execution_count": 32,
   "id": "4a01f945",
   "metadata": {},
   "outputs": [
    {
     "data": {
      "image/png": "[encoded data removed]",
      "text/plain": [
       "<Figure size 432x288 with 1 Axes>"
      ]
     },
     "metadata": {
      "needs_background": "light"
     },
     "output_type": "display_data"
    }
   ],
   "source": [
    "# Create violin plots for stays in weekend nights and week nights by customer types\n",
    "sns.violinplot(x='customer_type', y='stays_in_weekend_nights', data=df, palette='pastel', split=True, inner='quartile')\n",
    "sns.violinplot(x='customer_type', y='stays_in_week_nights', data=df, palette='pastel', split=True, inner='quartile')\n",
    "\n",
    "plt.title('Stays in Weekend Nights and Week Nights by Customer Types')\n",
    "plt.xlabel('Customer Type')\n",
    "plt.ylabel('Stays')\n",
    "plt.show()\n"
   ]
  },
  {
   "cell_type": "code",
   "execution_count": 33,
   "id": "b3e2ecbe",
   "metadata": {},
   "outputs": [
    {
     "data": {
      "image/png": "[encoded data removed]",
      "text/plain": [
       "<Figure size 720x432 with 1 Axes>"
      ]
     },
     "metadata": {
      "needs_background": "light"
     },
     "output_type": "display_data"
    }
   ],
   "source": [
    "# Plotting a countplot for booking changes with hue for cancellations by customer types\n",
    "plt.figure(figsize=(10, 6))\n",
    "sns.countplot(x='booking_changes', hue='is_canceled', data=df, palette='viridis')\n",
    "\n",
    "plt.title('Booking Changes with Hue for Cancellations by Customer Types')\n",
    "plt.xlabel('Booking Changes')\n",
    "plt.ylabel('Count')\n",
    "plt.legend(title='Booking Canceled', labels=['Not Canceled', 'Canceled'])\n",
    "plt.show()"
   ]
  },
  {
   "cell_type": "markdown",
   "id": "8fc1fe30",
   "metadata": {},
   "source": [
    "### Hypothesis Testing"
   ]
  },
  {
   "cell_type": "markdown",
   "id": "266fd560",
   "metadata": {},
   "source": [
    "Here we will perform several hypothesis tests to explore relationships between variables or assess the significance of certain observations."
   ]
  },
  {
   "cell_type": "markdown",
   "id": "429490db",
   "metadata": {},
   "source": [
    "**1. Impact of Customer Type on Cancellations:**\n",
    "\n",
    "**Null Hypothesis (H0)**: There is no significant difference in cancellation rates between different customer types.\n",
    "\n",
    "**Alternative Hypothesis (H1)**: There is a significant difference in cancellation rates between different customer types.\n",
    "Test: Chi-square test."
   ]
  },
  {
   "cell_type": "code",
   "execution_count": 38,
   "id": "181e76ef",
   "metadata": {},
   "outputs": [],
   "source": [
    "from scipy.stats import chi2_contingency\n"
   ]
  },
  {
   "cell_type": "code",
   "execution_count": 39,
   "id": "1160ffec",
   "metadata": {},
   "outputs": [
    {
     "name": "stdout",
     "output_type": "stream",
     "text": [
      "Contingency Table:\n",
      "is_canceled          0      1\n",
      "customer_type                \n",
      "Contract          2814   1262\n",
      "Group              518     59\n",
      "Transient        53099  36514\n",
      "Transient-Party  18735   6389\n"
     ]
    }
   ],
   "source": [
    "# Create a contingency table\n",
    "contingency_table = pd.crosstab(df['customer_type'], df['is_canceled'])\n",
    "\n",
    "# Display the contingency table\n",
    "print(\"Contingency Table:\")\n",
    "print(contingency_table)"
   ]
  },
  {
   "cell_type": "code",
   "execution_count": 40,
   "id": "3625b68d",
   "metadata": {},
   "outputs": [
    {
     "name": "stdout",
     "output_type": "stream",
     "text": [
      "\n",
      "Chi-square Statistic: 2222.50416048372\n",
      "P-value: 0.0\n",
      "\n",
      "Significance:\n",
      "Reject the null hypothesis. There is a significant difference in cancellation rates.\n"
     ]
    }
   ],
   "source": [
    "# Perform the Chi-square test\n",
    "chi2, p, _, _ = chi2_contingency(contingency_table)\n",
    "\n",
    "# Display the test statistics and p-value\n",
    "print(f\"\\nChi-square Statistic: {chi2}\")\n",
    "print(f\"P-value: {p}\")\n",
    "\n",
    "# Determine the significance\n",
    "alpha = 0.05\n",
    "print(\"\\nSignificance:\")\n",
    "if p < alpha:\n",
    "    print(\"Reject the null hypothesis. There is a significant difference in cancellation rates.\")\n",
    "else:\n",
    "    print(\"Fail to reject the null hypothesis. There is no significant difference in cancellation rates.\")"
   ]
  },
  {
   "cell_type": "markdown",
   "id": "8a06c878",
   "metadata": {},
   "source": [
    "### 2. Influence of Deposit Type on Cancellations:\n",
    "\n",
    "**Null Hypothesis (H0)**: The type of deposit has no impact on the likelihood of cancellations.\n",
    "\n",
    "**Alternative Hypothesis (H1)**: The type of deposit has an impact on the likelihood of cancellations.\n",
    "Test: Chi-square test."
   ]
  },
  {
   "cell_type": "code",
   "execution_count": 41,
   "id": "f3fd2c19",
   "metadata": {},
   "outputs": [
    {
     "name": "stdout",
     "output_type": "stream",
     "text": [
      "Contingency Table:\n",
      "is_canceled       0      1\n",
      "deposit_type              \n",
      "No Deposit    74947  29694\n",
      "Non Refund       93  14494\n",
      "Refundable      126     36\n"
     ]
    }
   ],
   "source": [
    "# Create a contingency table\n",
    "contingency_table = pd.crosstab(df['deposit_type'], df['is_canceled'])\n",
    "\n",
    "# Display the contingency table\n",
    "print(\"Contingency Table:\")\n",
    "print(contingency_table)"
   ]
  },
  {
   "cell_type": "code",
   "execution_count": 42,
   "id": "9b0e787a",
   "metadata": {},
   "outputs": [
    {
     "name": "stdout",
     "output_type": "stream",
     "text": [
      "\n",
      "Chi-square Statistic: 27677.32924132434\n",
      "P-value: 0.0\n",
      "\n",
      "Significance:\n",
      "Reject the null hypothesis. The type of deposit has a significant impact on cancellations.\n"
     ]
    }
   ],
   "source": [
    "# Perform the Chi-square test\n",
    "chi2, p, _, _ = chi2_contingency(contingency_table)\n",
    "\n",
    "# Display the test statistics and p-value\n",
    "print(f\"\\nChi-square Statistic: {chi2}\")\n",
    "print(f\"P-value: {p}\")\n",
    "\n",
    "# Determine the significance\n",
    "alpha = 0.05\n",
    "print(\"\\nSignificance:\")\n",
    "if p < alpha:\n",
    "    print(\"Reject the null hypothesis. The type of deposit has a significant impact on cancellations.\")\n",
    "else:\n",
    "    print(\"Fail to reject the null hypothesis. There is no significant impact of deposit type on cancellations.\")\n",
    "\n",
    "    "
   ]
  },
  {
   "cell_type": "markdown",
   "id": "81d7b0ef",
   "metadata": {},
   "source": [
    "### 3. Impact of Booking Changes on Cancellations:\n",
    "\n",
    "**Null Hypothesis (H0)**: The number of booking changes does not significantly affect the likelihood of cancellations.\n",
    "\n",
    "**Alternative Hypothesis (H1)**: The number of booking changes significantly affects the likelihood of cancellations.\n",
    "Test: Chi-square test."
   ]
  },
  {
   "cell_type": "code",
   "execution_count": 43,
   "id": "b1b5a268",
   "metadata": {},
   "outputs": [
    {
     "name": "stdout",
     "output_type": "stream",
     "text": [
      "Contingency Table:\n",
      "is_canceled          0      1\n",
      "booking_changes              \n",
      "0                59923  41391\n",
      "1                10894   1807\n",
      "2                 3039    766\n",
      "3                  783    144\n",
      "4                  309     67\n",
      "5                   98     20\n",
      "6                   45     18\n",
      "7                   28      3\n",
      "8                   13      4\n",
      "9                    7      1\n",
      "10                   5      1\n",
      "11                   2      0\n",
      "12                   2      0\n",
      "13                   5      0\n",
      "14                   4      1\n",
      "15                   3      0\n",
      "16                   1      1\n",
      "17                   2      0\n",
      "18                   1      0\n",
      "20                   1      0\n",
      "21                   1      0\n"
     ]
    }
   ],
   "source": [
    "# Create a contingency table\n",
    "contingency_table = pd.crosstab(df['booking_changes'], df['is_canceled'])\n",
    "\n",
    "# Display the contingency table\n",
    "print(\"Contingency Table:\")\n",
    "print(contingency_table)\n"
   ]
  },
  {
   "cell_type": "code",
   "execution_count": 44,
   "id": "cdf543dd",
   "metadata": {},
   "outputs": [
    {
     "name": "stdout",
     "output_type": "stream",
     "text": [
      "\n",
      "Chi-square Statistic: 4223.775597422914\n",
      "P-value: 0.0\n",
      "\n",
      "Significance:\n",
      "Reject the null hypothesis. The number of booking changes significantly affects cancellations.\n"
     ]
    }
   ],
   "source": [
    "# Perform the Chi-square test\n",
    "chi2, p, _, _ = chi2_contingency(contingency_table)\n",
    "\n",
    "# Display the test statistics and p-value\n",
    "print(f\"\\nChi-square Statistic: {chi2}\")\n",
    "print(f\"P-value: {p}\")\n",
    "\n",
    "# Determine the significance\n",
    "alpha = 0.05\n",
    "print(\"\\nSignificance:\")\n",
    "if p < alpha:\n",
    "    print(\"Reject the null hypothesis. The number of booking changes significantly affects cancellations.\")\n",
    "else:\n",
    "    print(\"Fail to reject the null hypothesis. The number of booking changes does not significantly affect cancellations.\")"
   ]
  },
  {
   "cell_type": "markdown",
   "id": "7c8d15a5",
   "metadata": {},
   "source": [
    "### Anova 1\n",
    "### 4. Comparison of ADR by Market Segment:\n",
    "\n",
    "**Null Hypothesis (H0)**: There is no significant difference in average daily rate across different market segments.\n",
    "\n",
    "**Alternative Hypothesis (H1)**: There is a significant difference in average daily rate across different market segments.\n",
    "Test: Analysis of Variance (ANOVA) or Kruskal-Wallis test.\n"
   ]
  },
  {
   "cell_type": "code",
   "execution_count": 45,
   "id": "ef23f22a",
   "metadata": {},
   "outputs": [
    {
     "name": "stdout",
     "output_type": "stream",
     "text": [
      "ANOVA Table:\n",
      "                      sum_sq        df            F  PR(>F)\n",
      "market_segment  4.351732e+07       7.0  2839.358699     0.0\n",
      "Residual        2.613862e+08  119382.0          NaN     NaN\n"
     ]
    }
   ],
   "source": [
    "import scipy.stats as stats\n",
    "import statsmodels.api as sm\n",
    "from statsmodels.formula.api import ols\n",
    "\n",
    "# Fit an ANOVA model\n",
    "model = ols('adr ~ market_segment', data=df).fit()\n",
    "\n",
    "# Perform ANOVA\n",
    "anova_table = sm.stats.anova_lm(model, typ=2)\n",
    "\n",
    "# Display the ANOVA table\n",
    "print(\"ANOVA Table:\")\n",
    "print(anova_table)\n",
    "\n"
   ]
  },
  {
   "cell_type": "code",
   "execution_count": 46,
   "id": "99f29e47",
   "metadata": {},
   "outputs": [
    {
     "name": "stdout",
     "output_type": "stream",
     "text": [
      "\n",
      "Significance (ANOVA):\n",
      "Reject the null hypothesis. There is a significant difference in ADR across market segments.\n"
     ]
    }
   ],
   "source": [
    "# Determine the significance\n",
    "alpha = 0.05\n",
    "p_value_anova = anova_table['PR(>F)']['market_segment']\n",
    "print(\"\\nSignificance (ANOVA):\")\n",
    "if p_value_anova < alpha:\n",
    "    print(\"Reject the null hypothesis. There is a significant difference in ADR across market segments.\")\n",
    "else:\n",
    "    print(\"Fail to reject the null hypothesis. There is no significant difference in ADR across market segments.\")"
   ]
  },
  {
   "cell_type": "markdown",
   "id": "1353b724",
   "metadata": {},
   "source": [
    "### ANOVA 2: Comparison of lead time with booking cancellations\n"
   ]
  },
  {
   "cell_type": "markdown",
   "id": "5d9886b1",
   "metadata": {},
   "source": [
    "**Null Hypothesis (H0)**: There is no significant difference in lead time among different booking cancellation groups.\n",
    "\n",
    "**Alternative Hypothesis (H1)**: There is a significant difference in lead time among different booking cancellation groups."
   ]
  },
  {
   "cell_type": "code",
   "execution_count": 47,
   "id": "f4ff451d",
   "metadata": {},
   "outputs": [
    {
     "data": {
      "image/png": "[encoded data removed]",
      "text/plain": [
       "<Figure size 720x432 with 1 Axes>"
      ]
     },
     "metadata": {
      "needs_background": "light"
     },
     "output_type": "display_data"
    }
   ],
   "source": [
    "from scipy.stats import f_oneway\n",
    "# Create separate data series for lead time in different cancellation groups\n",
    "lead_time_canceled = df[df['is_canceled'] == 1]['lead_time']\n",
    "lead_time_not_canceled = df[df['is_canceled'] == 0]['lead_time']\n",
    "\n",
    "# Visualize the distribution of lead time for each cancellation group\n",
    "plt.figure(figsize=(10, 6))\n",
    "sns.histplot(lead_time_canceled, color='red', label='Canceled', kde=True)\n",
    "sns.histplot(lead_time_not_canceled, color='green', label='Not Canceled', kde=True)\n",
    "plt.title('Distribution of Lead Time by Cancellation Status')\n",
    "plt.xlabel('Lead Time')\n",
    "plt.ylabel('Frequency')\n",
    "plt.legend()\n",
    "plt.show()\n",
    "\n"
   ]
  },
  {
   "cell_type": "code",
   "execution_count": 48,
   "id": "a4dc27d1",
   "metadata": {},
   "outputs": [
    {
     "name": "stdout",
     "output_type": "stream",
     "text": [
      "\n",
      "ANOVA Statistic: 11222.198247752314\n",
      "P-value: 0.0\n",
      "\n",
      "Significance:\n",
      "Reject the null hypothesis. There is a significant difference in lead time among different booking cancellation groups.\n"
     ]
    }
   ],
   "source": [
    "# Perform ANOVA\n",
    "f_statistic, p_value = f_oneway(lead_time_canceled, lead_time_not_canceled)\n",
    "\n",
    "# Display the test statistics and p-value\n",
    "print(f\"\\nANOVA Statistic: {f_statistic}\")\n",
    "print(f\"P-value: {p_value}\")\n",
    "\n",
    "# Determine the significance\n",
    "alpha = 0.05\n",
    "print(\"\\nSignificance:\")\n",
    "if p_value < alpha:\n",
    "    print(\"Reject the null hypothesis. There is a significant difference in lead time among different booking cancellation groups.\")\n",
    "else:\n",
    "    print(\"Fail to reject the null hypothesis. There is no significant difference in lead time among different booking cancellation groups.\")"
   ]
  },
  {
   "cell_type": "markdown",
   "id": "50128558",
   "metadata": {},
   "source": [
    "### Regression Analysis 1: Impact of special requests on booking retention\n",
    "\n",
    "**Null Hypothesis (H0)**: There is no significant impact of special requests on booking retention.\n",
    "\n",
    "**Alternative Hypothesis (H1)**: There is a significant impact of special requests on booking retention."
   ]
  },
  {
   "cell_type": "code",
   "execution_count": 52,
   "id": "d415bcdf",
   "metadata": {},
   "outputs": [
    {
     "name": "stdout",
     "output_type": "stream",
     "text": [
      "Optimization terminated successfully.\n",
      "         Current function value: 0.628594\n",
      "         Iterations 5\n",
      "                           Logit Regression Results                           \n",
      "==============================================================================\n",
      "Dep. Variable:            is_canceled   No. Observations:               119390\n",
      "Model:                          Logit   Df Residuals:                   119388\n",
      "Method:                           MLE   Df Model:                            1\n",
      "Date:                Mon, 20 Nov 2023   Pseudo R-squ.:                 0.04640\n",
      "Time:                        21:03:27   Log-Likelihood:                -75048.\n",
      "converged:                       True   LL-Null:                       -78699.\n",
      "Covariance Type:            nonrobust   LLR p-value:                     0.000\n",
      "=============================================================================================\n",
      "                                coef    std err          z      P>|z|      [0.025      0.975]\n",
      "---------------------------------------------------------------------------------------------\n",
      "intercept                    -0.1646      0.007    -22.471      0.000      -0.179      -0.150\n",
      "total_of_special_requests    -0.7351      0.009    -78.121      0.000      -0.754      -0.717\n",
      "=============================================================================================\n",
      "\n",
      "Significance:\n",
      "Reject the null hypothesis. There is a significant impact of special requests on booking retention.\n"
     ]
    }
   ],
   "source": [
    "import statsmodels.api as sm\n",
    "\n",
    "# Add an intercept term\n",
    "df['intercept'] = 1\n",
    "\n",
    "# Specify the independent variable (special requests) and the dependent variable (is_canceled)\n",
    "X = df[['intercept', 'total_of_special_requests']]\n",
    "y = df['is_canceled']\n",
    "\n",
    "# Fit logistic regression model\n",
    "logit_model = sm.Logit(y, X)\n",
    "result = logit_model.fit()\n",
    "\n",
    "# Display the summary of the regression\n",
    "print(result.summary())\n",
    "\n",
    "# Interpret the results and check for significance\n",
    "p_value_special_requests = result.pvalues['total_of_special_requests']\n",
    "alpha = 0.05\n",
    "\n",
    "# Determine the significance\n",
    "print(\"\\nSignificance:\")\n",
    "if p_value_special_requests < alpha:\n",
    "    print(\"Reject the null hypothesis. There is a significant impact of special requests on booking retention.\")\n",
    "else:\n",
    "    print(\"Fail to reject the null hypothesis. There is no significant impact of special requests on booking retention.\")"
   ]
  },
  {
   "cell_type": "markdown",
   "id": "a539f833",
   "metadata": {},
   "source": [
    "### Regression Analysis 2: Influence of market segment and distribution channel on cancellations\n",
    "\n",
    "**Null Hypothesis (H0)**: Market segment and distribution channel have no significant influence on cancellations.\n",
    "\n",
    "**Alternative Hypothesis (H1)**: Market segment and distribution channel have a significant influence on cancellations.\n",
    "Perform Regression Analysis:\n"
   ]
  },
  {
   "cell_type": "code",
   "execution_count": 54,
   "id": "68d7d6d6",
   "metadata": {},
   "outputs": [
    {
     "name": "stdout",
     "output_type": "stream",
     "text": [
      "Warning: Maximum number of iterations has been exceeded.\n",
      "         Current function value: 0.619466\n",
      "         Iterations: 35\n"
     ]
    },
    {
     "name": "stderr",
     "output_type": "stream",
     "text": [
      "/home/paul/.local/lib/python3.10/site-packages/statsmodels/base/model.py:604: ConvergenceWarning: Maximum Likelihood optimization failed to converge. Check mle_retvals\n",
      "  warnings.warn(\"Maximum Likelihood optimization failed to \"\n"
     ]
    },
    {
     "name": "stdout",
     "output_type": "stream",
     "text": [
      "                           Logit Regression Results                           \n",
      "==============================================================================\n",
      "Dep. Variable:            is_canceled   No. Observations:               119390\n",
      "Model:                          Logit   Df Residuals:                   119378\n",
      "Method:                           MLE   Df Model:                           11\n",
      "Date:                Mon, 20 Nov 2023   Pseudo R-squ.:                 0.06024\n",
      "Time:                        21:10:17   Log-Likelihood:                -73958.\n",
      "converged:                      False   LL-Null:                       -78699.\n",
      "Covariance Type:            nonrobust   LLR p-value:                     0.000\n",
      "==================================================================================================\n",
      "                                     coef    std err          z      P>|z|      [0.025      0.975]\n",
      "--------------------------------------------------------------------------------------------------\n",
      "intercept                         -1.3170      0.158     -8.353      0.000      -1.626      -1.008\n",
      "market_segment_Complementary      -0.6688      0.198     -3.374      0.001      -1.057      -0.280\n",
      "market_segment_Corporate          -0.2227      0.162     -1.378      0.168      -0.539       0.094\n",
      "market_segment_Direct             -0.3613      0.170     -2.120      0.034      -0.695      -0.027\n",
      "market_segment_Groups              0.9783      0.164      5.967      0.000       0.657       1.300\n",
      "market_segment_Offline TA/TO      -0.2485      0.165     -1.509      0.131      -0.571       0.074\n",
      "market_segment_Online TA          -0.1476      0.164     -0.898      0.369      -0.470       0.175\n",
      "market_segment_Undefined          15.7541   3050.245      0.005      0.996   -5962.617    5994.125\n",
      "distribution_channel_Direct       -0.0555      0.063     -0.878      0.380      -0.179       0.068\n",
      "distribution_channel_GDS           0.0497      0.189      0.262      0.793      -0.322       0.421\n",
      "distribution_channel_TA/TO         0.9248      0.049     18.892      0.000       0.829       1.021\n",
      "distribution_channel_Undefined     2.3020      1.227      1.876      0.061      -0.104       4.708\n",
      "==================================================================================================\n",
      "\n",
      "Significance:\n",
      "Reject the null hypothesis. Market segment and distribution channel have a significant influence on cancellations.\n"
     ]
    }
   ],
   "source": [
    "# Add an intercept term\n",
    "df['intercept'] = 1\n",
    "\n",
    "# Specify the independent variables (market_segment, distribution_channel) and the dependent variable (is_canceled)\n",
    "X = df[['intercept', 'market_segment', 'distribution_channel']]\n",
    "y = df['is_canceled']\n",
    "\n",
    "# Convert categorical variables to dummy/indicator variables\n",
    "X = pd.get_dummies(X, columns=['market_segment', 'distribution_channel'], drop_first=True)\n",
    "\n",
    "# Fit logistic regression model\n",
    "logit_model = sm.Logit(y, X)\n",
    "result = logit_model.fit()\n",
    "\n",
    "# Display the summary of the regression\n",
    "print(result.summary())\n",
    "\n",
    "# Interpret the results and check for significance\n",
    "p_value_market_segment = result.pvalues['market_segment_Groups']\n",
    "p_value_distribution_channel = result.pvalues['distribution_channel_GDS']\n",
    "alpha = 0.05\n",
    "\n",
    "# Determine the significance\n",
    "print(\"\\nSignificance:\")\n",
    "if p_value_market_segment < alpha or p_value_distribution_channel < alpha:\n",
    "    print(\"Reject the null hypothesis. Market segment and distribution channel have a significant influence on cancellations.\")\n",
    "else:\n",
    "    print(\"Fail to reject the null hypothesis. Market segment and distribution channel have no significant influence on cancellations.\")"
   ]
  },
  {
   "cell_type": "markdown",
   "id": "b36d152e",
   "metadata": {},
   "source": [
    "### Regression Analysis 3: Relationship between Previous Cancellations and Future Cancellations\n",
    "\n",
    "**Null Hypothesis (H0)**: Previous cancellations do not significantly affect the likelihood of future cancellations.\n",
    "\n",
    "**Alternative Hypothesis (H1)**: Previous cancellations significantly affect the likelihood of future cancellations."
   ]
  },
  {
   "cell_type": "code",
   "execution_count": 55,
   "id": "7b7bf6c1",
   "metadata": {},
   "outputs": [
    {
     "name": "stdout",
     "output_type": "stream",
     "text": [
      "Optimization terminated successfully.\n",
      "         Current function value: 0.634290\n",
      "         Iterations 7\n",
      "                           Logit Regression Results                           \n",
      "==============================================================================\n",
      "Dep. Variable:            is_canceled   No. Observations:               119390\n",
      "Model:                          Logit   Df Residuals:                   119388\n",
      "Method:                           MLE   Df Model:                            1\n",
      "Date:                Mon, 20 Nov 2023   Pseudo R-squ.:                 0.03775\n",
      "Time:                        21:20:14   Log-Likelihood:                -75728.\n",
      "converged:                       True   LL-Null:                       -78699.\n",
      "Covariance Type:            nonrobust   LLR p-value:                     0.000\n",
      "==========================================================================================\n",
      "                             coef    std err          z      P>|z|      [0.025      0.975]\n",
      "------------------------------------------------------------------------------------------\n",
      "intercept                 -0.6423      0.006   -102.578      0.000      -0.655      -0.630\n",
      "previous_cancellations     2.0608      0.033     62.875      0.000       1.997       2.125\n",
      "==========================================================================================\n"
     ]
    }
   ],
   "source": [
    "X_prev_cancellations = df[['intercept', 'previous_cancellations']]\n",
    "y_prev_cancellations = df['is_canceled']\n",
    "\n",
    "# Fit logistic regression model\n",
    "logit_model_prev_cancellations = sm.Logit(y_prev_cancellations, X_prev_cancellations)\n",
    "result_prev_cancellations = logit_model_prev_cancellations.fit()\n",
    "\n",
    "# Display the summary\n",
    "print(result_prev_cancellations.summary())\n"
   ]
  },
  {
   "cell_type": "code",
   "execution_count": 61,
   "id": "97b05ea0",
   "metadata": {},
   "outputs": [
    {
     "name": "stdout",
     "output_type": "stream",
     "text": [
      "\n",
      "Significance:\n",
      "Reject the null hypothesis:Previous cancellations significantly affect the likelihood of future cancellations.\n"
     ]
    }
   ],
   "source": [
    "# Interpret the results and check for significance\n",
    "p_value_intercept = result_prev_cancellations.pvalues['intercept']\n",
    "p_value_previous_cancellations = result_prev_cancellations.pvalues['previous_cancellations']\n",
    "\n",
    "alpha = 0.05\n",
    "\n",
    "# Determine the significance\n",
    "print(\"\\nSignificance:\")\n",
    "if p_value_intercept < alpha or p_value_previous_cancellations < alpha:\n",
    "    print(\"Reject the null hypothesis:Previous cancellations significantly affect the likelihood of future cancellations.\")\n",
    "else:\n",
    "    print(\"Fail to reject the null hypothesis: Previous cancellations do not significantly affect the likelihood of future cancellations.\")\n"
   ]
  },
  {
   "cell_type": "code",
   "execution_count": null,
   "id": "198e44a9",
   "metadata": {},
   "outputs": [],
   "source": []
  }
 ],
 "metadata": {
  "kernelspec": {
   "display_name": "python3(learn-env)",
   "language": "python",
   "name": "learn-env"
  },
  "language_info": {
   "codemirror_mode": {
    "name": "ipython",
    "version": 3
   },
   "file_extension": ".py",
   "mimetype": "text/x-python",
   "name": "python",
   "nbconvert_exporter": "python",
   "pygments_lexer": "ipython3",
   "version": "3.10.12"
  }
 },
 "nbformat": 4,
 "nbformat_minor": 5
}
